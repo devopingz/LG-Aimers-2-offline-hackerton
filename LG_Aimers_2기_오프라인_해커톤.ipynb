{
  "cells": [
    {
      "cell_type": "markdown",
      "metadata": {
        "id": "273b75f6-25fa-4f9c-8c9d-fa33a985f2dd"
      },
      "source": [
        "## Import"
      ],
      "id": "273b75f6-25fa-4f9c-8c9d-fa33a985f2dd"
    },
    {
      "cell_type": "code",
      "execution_count": null,
      "metadata": {
        "colab": {
          "base_uri": "https://localhost:8080/"
        },
        "id": "5c415d9d-1111-46ed-bc2d-849c75ab962a",
        "outputId": "c879ed41-f22f-407e-8bfa-b7b535ad7b9f"
      },
      "outputs": [
        {
          "output_type": "stream",
          "name": "stdout",
          "text": [
            "Drive already mounted at /content/gdrive/; to attempt to forcibly remount, call drive.mount(\"/content/gdrive/\", force_remount=True).\n"
          ]
        }
      ],
      "source": [
        "# 구글 드라이브 연결\n",
        "from google.colab import drive\n",
        "drive.mount('/content/gdrive/')"
      ],
      "id": "5c415d9d-1111-46ed-bc2d-849c75ab962a"
    },
    {
      "cell_type": "code",
      "execution_count": null,
      "metadata": {
        "id": "oiaXsrmuSosC"
      },
      "outputs": [],
      "source": [
        "# 구글 드라이브 경로 설정 \n",
        "DATA_PATH = '/content/gdrive/My Drive/LG Aimers phase3/' \n",
        "MODEL_PATH='/content/gdrive/My Drive/LG Aimers phase3/'\n",
        "SUBMISSION_PATH='/content/gdrive/My Drive/LG Aimers phase3/' "
      ],
      "id": "oiaXsrmuSosC"
    },
    {
      "cell_type": "markdown",
      "metadata": {
        "id": "fz15M_cUkjJa"
      },
      "source": [],
      "id": "fz15M_cUkjJa"
    },
    {
      "cell_type": "code",
      "execution_count": null,
      "metadata": {
        "id": "aU0h2V6KUiU0"
      },
      "outputs": [],
      "source": [
        "import pandas as pd\n",
        "import random\n",
        "import os\n",
        "import numpy as np\n",
        "import sklearn.metrics as metrics\n",
        "import statistics\n",
        "import math as math\n",
        "import seaborn as sns\n",
        "\n",
        "from sklearn.ensemble import VotingClassifier\n",
        "from lightgbm import plot_importance\n",
        "from sklearn.ensemble import GradientBoostingClassifier\n",
        "from xgboost import XGBClassifier\n",
        "from sklearn.metrics import f1_score\n",
        "from sklearn.metrics import accuracy_score\n",
        "from sklearn.preprocessing import LabelEncoder\n",
        "from lightgbm import LGBMClassifier"
      ],
      "id": "aU0h2V6KUiU0"
    },
    {
      "cell_type": "markdown",
      "metadata": {
        "id": "Wsg-QiUESJhL"
      },
      "source": [],
      "id": "Wsg-QiUESJhL"
    },
    {
      "cell_type": "code",
      "execution_count": null,
      "metadata": {
        "id": "edae871a-b31b-4f06-bb88-0fd1f6660b13"
      },
      "outputs": [],
      "source": [
        "def seed_everything(seed):\n",
        "    random.seed(seed)\n",
        "    os.environ['PYTHONHASHSEED'] = str(seed)\n",
        "    np.random.seed(seed)\n",
        "seed_everything(37) # Seed 고정"
      ],
      "id": "edae871a-b31b-4f06-bb88-0fd1f6660b13"
    },
    {
      "cell_type": "markdown",
      "metadata": {
        "id": "119f9c1c-39bc-42e7-a00d-3062d11b4f1e"
      },
      "source": [
        "## Data Load"
      ],
      "id": "119f9c1c-39bc-42e7-a00d-3062d11b4f1e"
    },
    {
      "cell_type": "code",
      "execution_count": null,
      "metadata": {
        "id": "ee76c413-001b-475e-9d1c-6662d25d2db2"
      },
      "outputs": [],
      "source": [
        "train_df = pd.read_csv(DATA_PATH + 'train.csv')\n",
        "test_df = pd.read_csv(DATA_PATH + 'test.csv')"
      ],
      "id": "ee76c413-001b-475e-9d1c-6662d25d2db2"
    },
    {
      "cell_type": "markdown",
      "source": [
        "# EDA"
      ],
      "metadata": {
        "id": "TgZHhMdowGJx"
      },
      "id": "TgZHhMdowGJx"
    },
    {
      "cell_type": "code",
      "execution_count": null,
      "metadata": {
        "id": "ffc6afcd-a059-4c16-81a5-ab3d4d750a41"
      },
      "outputs": [],
      "source": [
        "# 칼럼 드랍\n",
        "train_x = train_df.drop(columns=['PRODUCT_ID', 'Y_Class', 'Y_Quality'])\n",
        "train_y = train_df['Y_Class']\n",
        "test_x = test_df.drop(columns=['PRODUCT_ID'])"
      ],
      "id": "ffc6afcd-a059-4c16-81a5-ab3d4d750a41"
    },
    {
      "cell_type": "code",
      "source": [
        "# train 데이터 확인 (rows 1132, columns 3328, 많은 결측치 존재)\n",
        "print(train_x)"
      ],
      "metadata": {
        "colab": {
          "base_uri": "https://localhost:8080/"
        },
        "id": "mrYjV-UmwF5r",
        "outputId": "cf976496-9aa3-40dd-aeb5-3424ab37263f"
      },
      "id": "mrYjV-UmwF5r",
      "execution_count": null,
      "outputs": [
        {
          "output_type": "stream",
          "name": "stdout",
          "text": [
            "         LINE PRODUCT_CODE  X_1    X_2  X_3   X_4   X_5  X_6   X_7   X_8  ...  \\\n",
            "0     T100304         T_31  2.0   95.0  0.0  45.0  10.0  0.0  45.0  10.0  ...   \n",
            "1     T100306         T_31  2.0   96.0  0.0  45.0  10.0  0.0  53.0  10.0  ...   \n",
            "2     T100306         T_31  2.0   95.0  0.0  45.0  10.0  0.0  60.0  10.0  ...   \n",
            "3     T100306         T_31  2.0   87.0  0.0  45.0  10.0  0.0  53.0  10.0  ...   \n",
            "4     T100306         T_31  2.0   95.0  0.0  45.0  10.0  0.0  51.0  10.0  ...   \n",
            "...       ...          ...  ...    ...  ...   ...   ...  ...   ...   ...  ...   \n",
            "1127  T050304         A_31  NaN    NaN  NaN   NaN   NaN  NaN   NaN   NaN  ...   \n",
            "1128  T100304         T_31  2.0  102.0  0.0  45.0  11.0  0.0  45.0  10.0  ...   \n",
            "1129  T100306         T_31  1.0   88.0  0.0  45.0  10.0  0.0  51.0  10.0  ...   \n",
            "1130  T010306         A_31  NaN    NaN  NaN   NaN   NaN  NaN   NaN   NaN  ...   \n",
            "1131  T100304         T_31  2.0  101.0  0.0  45.0  11.0  0.0  45.0  10.0  ...   \n",
            "\n",
            "        X_3317    X_3318    X_3319    X_3320    X_3321    X_3322    X_3323  \\\n",
            "0     0.000008  0.000003  0.191408  0.000008  0.001210  0.000021  0.000003   \n",
            "1     0.000008  0.000003  0.188993  0.000032  0.000644  0.000041  0.000002   \n",
            "2          NaN       NaN       NaN       NaN       NaN       NaN       NaN   \n",
            "3     0.000007  0.000003  0.189424  0.000034  0.000678  0.000043  0.000004   \n",
            "4          NaN       NaN       NaN       NaN       NaN       NaN       NaN   \n",
            "...        ...       ...       ...       ...       ...       ...       ...   \n",
            "1127       NaN       NaN       NaN       NaN       NaN       NaN       NaN   \n",
            "1128       NaN       NaN       NaN       NaN       NaN       NaN       NaN   \n",
            "1129       NaN       NaN       NaN       NaN       NaN       NaN       NaN   \n",
            "1130       NaN       NaN       NaN       NaN       NaN       NaN       NaN   \n",
            "1131  0.000006  0.000004  0.190968  0.000009  0.001270  0.000022  0.000004   \n",
            "\n",
            "        X_3324  X_3325    X_3326  \n",
            "0     0.000002   0.189  0.000006  \n",
            "1     0.000003   0.185  0.000029  \n",
            "2          NaN     NaN       NaN  \n",
            "3     0.000003   0.188  0.000031  \n",
            "4          NaN     NaN       NaN  \n",
            "...        ...     ...       ...  \n",
            "1127       NaN     NaN       NaN  \n",
            "1128       NaN     NaN       NaN  \n",
            "1129       NaN     NaN       NaN  \n",
            "1130       NaN     NaN       NaN  \n",
            "1131  0.000001   0.190  0.000005  \n",
            "\n",
            "[1132 rows x 3328 columns]\n"
          ]
        }
      ]
    },
    {
      "cell_type": "code",
      "source": [
        "# Y_Class 분포 확인, class_imbalance => over_sampling 시도해보았으나 성능향상 x\n",
        "sns.countplot(data=train_df, x='Y_Class')"
      ],
      "metadata": {
        "colab": {
          "base_uri": "https://localhost:8080/",
          "height": 301
        },
        "id": "WL4e1XRYxA4i",
        "outputId": "b01fe6d7-c696-4c65-b267-9428eb44b3b9"
      },
      "id": "WL4e1XRYxA4i",
      "execution_count": null,
      "outputs": [
        {
          "output_type": "execute_result",
          "data": {
            "text/plain": [
              "<Axes: xlabel='Y_Class', ylabel='count'>"
            ]
          },
          "metadata": {},
          "execution_count": 122
        },
        {
          "output_type": "display_data",
          "data": {
            "text/plain": [
              "<Figure size 432x288 with 1 Axes>"
            ],
            "image/png": "[encoded data removed]"
          },
          "metadata": {
            "needs_background": "light"
          }
        }
      ]
    },
    {
      "cell_type": "markdown",
      "source": [
        "#Data preprocessing"
      ],
      "metadata": {
        "id": "1LJdcMiXdRdq"
      },
      "id": "1LJdcMiXdRdq"
    },
    {
      "cell_type": "code",
      "execution_count": null,
      "metadata": {
        "id": "f710209f-754a-456b-97a5-f7fb4f7e0f51",
        "colab": {
          "base_uri": "https://localhost:8080/"
        },
        "outputId": "61a053b5-bcee-4296-f7a0-67c870c2c27f"
      },
      "outputs": [
        {
          "output_type": "stream",
          "name": "stdout",
          "text": [
            "Done.\n"
          ]
        }
      ],
      "source": [
        "# 레이블인코딩\n",
        "qual_col = ['LINE','PRODUCT_CODE']\n",
        "\n",
        "for i in qual_col:\n",
        "    le = LabelEncoder()\n",
        "    le = le.fit(train_x[i])\n",
        "    train_x[i] = le.transform(train_x[i])\n",
        "    \n",
        "    for label in np.unique(test_x[i]):\n",
        "        if label not in le.classes_:\n",
        "            le.classes_ = np.append(le.classes_, label)\n",
        "    test_x[i] = le.transform(test_x[i])\n",
        "print('Done.')"
      ],
      "id": "f710209f-754a-456b-97a5-f7fb4f7e0f51"
    },
    {
      "cell_type": "code",
      "execution_count": null,
      "metadata": {
        "id": "witOImh6msnf"
      },
      "outputs": [],
      "source": [
        "# 결측치 처리\n",
        "train_x = train_x.fillna(0)\n",
        "test_x = test_x.fillna(0)"
      ],
      "id": "witOImh6msnf"
    },
    {
      "cell_type": "code",
      "execution_count": null,
      "metadata": {
        "colab": {
          "base_uri": "https://localhost:8080/"
        },
        "id": "9n9RXbWygPwa",
        "outputId": "a43a96ac-360c-4a25-a4ef-6e9f1018c136"
      },
      "outputs": [
        {
          "output_type": "stream",
          "name": "stdout",
          "text": [
            "LINE            False\n",
            "PRODUCT_CODE    False\n",
            "X_1             False\n",
            "X_2             False\n",
            "X_3             False\n",
            "                ...  \n",
            "X_3322          False\n",
            "X_3323          False\n",
            "X_3324          False\n",
            "X_3325          False\n",
            "X_3326          False\n",
            "Length: 3328, dtype: bool\n",
            "LINE            False\n",
            "PRODUCT_CODE    False\n",
            "X_1             False\n",
            "X_2             False\n",
            "X_3             False\n",
            "                ...  \n",
            "X_3322          False\n",
            "X_3323          False\n",
            "X_3324          False\n",
            "X_3325          False\n",
            "X_3326          False\n",
            "Length: 3328, dtype: bool\n"
          ]
        }
      ],
      "source": [
        "# 결측치 확인\n",
        "print(train_x.isna().any())\n",
        "print(test_x.isna().any())"
      ],
      "id": "9n9RXbWygPwa"
    },
    {
      "cell_type": "markdown",
      "metadata": {
        "id": "uTLnJ2D2bDet"
      },
      "source": [
        "# Data Split"
      ],
      "id": "uTLnJ2D2bDet"
    },
    {
      "cell_type": "code",
      "execution_count": null,
      "metadata": {
        "id": "3fc9BUsidT1h"
      },
      "outputs": [],
      "source": [
        "from sklearn.model_selection import train_test_split\n",
        "\n",
        "# train-test분리\n",
        "X_train, X_test, y_train, y_test = train_test_split(train_x ,train_y, test_size=0.2)\n",
        "\n",
        "# train-validation분리\n",
        "X2_train, X_val, y2_train, y_val = train_test_split(X_train, y_train, test_size=0.2)"
      ],
      "id": "3fc9BUsidT1h"
    },
    {
      "cell_type": "markdown",
      "source": [
        "# XGBClassifier, LGBMClassifier HyperParameter Tuning & Test"
      ],
      "metadata": {
        "id": "g-K2Ir5FjA7p"
      },
      "id": "g-K2Ir5FjA7p"
    },
    {
      "cell_type": "code",
      "source": [
        "XGB = XGBClassifier(n_estimators=100, learning_rate=0.08, gamma = 0, subsample=0.75, colsample_bytree = 1, max_depth=7, alpha=4, n_jobs=-1\n",
        "                   , booster='gbtree', importance_type='gain', min_child_weight=5\n",
        "                   )\n",
        "LGBM = LGBMClassifier(n_estimators=100, learning_rate=0.08, subsample=0.75, colsample_bytree = 1, max_depth=7, alpha=4, n_jobs=-1\n",
        "                   , importance_type='gain', min_child_weight=5\n",
        "                   )\n",
        "\n",
        "XGB.fit(X_train, y_train)\n",
        "preds = XGB.predict(X_test)\n",
        "\n",
        "print(\"훈련 세트 정확도: {:.3f}\".format(XGB.score(X_train, y_train)))\n",
        "print(\"테스트 세트 정확도: {:.3f}\".format(XGB.score(X_test, y_test)))\n",
        "print(\"현재 Macro F1 Score의 검증 점수: {:.3f}\".format(f1_score(preds, y_test, average = \"macro\")))\n",
        "print(\"\\n\")  \n",
        "\n",
        "XGB.fit(X2_train, y2_train)\n",
        "preds2 = XGB.predict(X_val)\n",
        "\n",
        "print(\"검증훈련 세트 정확도: {:.3f}\".format(XGB.score(X2_train, y2_train)))\n",
        "print(\"검증테스트 세트 정확도: {:.3f}\".format(XGB.score(X_val, y_val)))\n",
        "print(\"현재 Macro F1 Score의 검증 점수: {:.3f}\".format(f1_score(preds2, y_val, average = \"macro\")))\n",
        "print(\"\\n\") \n",
        "\n",
        "LGBM.fit(X_train, y_train)\n",
        "preds = LGBM.predict(X_test) \n",
        "\n",
        "print(\"훈련 세트 정확도: {:.3f}\".format(LGBM.score(X_train, y_train)))\n",
        "print(\"테스트 세트 정확도: {:.3f}\".format(LGBM.score(X_test, y_test)))\n",
        "print(\"현재 Macro F1 Score의 검증 점수: {:.3f}\".format(f1_score(preds, y_test, average = \"macro\")))\n",
        "print(\"\\n\") \n",
        "\n",
        "LGBM.fit(X2_train, y2_train)\n",
        "preds2 = LGBM.predict(X_val)\n",
        "\n",
        "print(\"검증훈련 세트 정확도: {:.3f}\".format(LGBM.score(X2_train, y2_train)))\n",
        "print(\"검증테스트 세트 정확도: {:.3f}\".format(LGBM.score(X_val, y_val)))\n",
        "print(\"현재 Macro F1 Score의 검증 점수: {:.3f}\".format(f1_score(preds2, y_val, average = \"macro\"))) "
      ],
      "metadata": {
        "id": "TOUcqCi2jCIq",
        "colab": {
          "base_uri": "https://localhost:8080/"
        },
        "outputId": "1a8a60d1-888e-4991-8827-ccb340af73f5"
      },
      "id": "TOUcqCi2jCIq",
      "execution_count": null,
      "outputs": [
        {
          "output_type": "stream",
          "name": "stdout",
          "text": [
            "훈련 세트 정확도: 0.937\n",
            "테스트 세트 정확도: 0.722\n",
            "현재 Macro F1 Score의 검증 점수: 0.560\n",
            "\n",
            "\n",
            "검증훈련 세트 정확도: 0.934\n",
            "검증테스트 세트 정확도: 0.718\n",
            "현재 Macro F1 Score의 검증 점수: 0.579\n",
            "\n",
            "\n",
            "훈련 세트 정확도: 0.997\n",
            "테스트 세트 정확도: 0.780\n",
            "현재 Macro F1 Score의 검증 점수: 0.666\n",
            "\n",
            "\n",
            "검증훈련 세트 정확도: 1.000\n",
            "검증테스트 세트 정확도: 0.713\n",
            "현재 Macro F1 Score의 검증 점수: 0.570\n"
          ]
        }
      ]
    },
    {
      "cell_type": "markdown",
      "metadata": {
        "id": "BlpPk1AS9g6q"
      },
      "source": [
        "#Voting Classifier Model"
      ],
      "id": "BlpPk1AS9g6q"
    },
    {
      "cell_type": "code",
      "execution_count": null,
      "metadata": {
        "id": "MqnMWqJXGaG1"
      },
      "outputs": [],
      "source": [
        "VM = VotingClassifier(\n",
        "    estimators=[('XGB',XGB),('LGBM',LGBM)], \n",
        "    voting='hard', n_jobs=-1\n",
        "    )"
      ],
      "id": "MqnMWqJXGaG1"
    },
    {
      "cell_type": "markdown",
      "metadata": {
        "id": "d97cf38e-2062-4645-9095-2ebac375711e"
      },
      "source": [
        "## Submit"
      ],
      "id": "d97cf38e-2062-4645-9095-2ebac375711e"
    },
    {
      "cell_type": "code",
      "source": [
        "VM.fit(train_x, train_y)\n",
        "preds = VM.predict(test_x)"
      ],
      "metadata": {
        "id": "CyLBBSSZjBEL"
      },
      "id": "CyLBBSSZjBEL",
      "execution_count": null,
      "outputs": []
    },
    {
      "cell_type": "code",
      "execution_count": null,
      "metadata": {
        "id": "20c5e156-d7c4-400f-b552-0bb86ebfd3e3"
      },
      "outputs": [],
      "source": [
        "submit = pd.read_csv(DATA_PATH + './sample_submission.csv')"
      ],
      "id": "20c5e156-d7c4-400f-b552-0bb86ebfd3e3"
    },
    {
      "cell_type": "code",
      "execution_count": null,
      "metadata": {
        "id": "5b869ab6-6852-45a1-bc75-39dee40b583f"
      },
      "outputs": [],
      "source": [
        "submit['Y_Class'] = preds"
      ],
      "id": "5b869ab6-6852-45a1-bc75-39dee40b583f"
    },
    {
      "cell_type": "code",
      "execution_count": null,
      "metadata": {
        "id": "026b00cd-5680-4bf2-b7f8-0bea6ae8299e"
      },
      "outputs": [],
      "source": [
        "submit.to_csv(DATA_PATH + './code.csv', index=False)"
      ],
      "id": "026b00cd-5680-4bf2-b7f8-0bea6ae8299e"
    }
  ],
  "metadata": {
    "colab": {
      "provenance": []
    },
    "kernelspec": {
      "display_name": "Python 3",
      "language": "python",
      "name": "python3"
    },
    "language_info": {
      "codemirror_mode": {
        "name": "ipython",
        "version": 3
      },
      "file_extension": ".py",
      "mimetype": "text/x-python",
      "name": "python",
      "nbconvert_exporter": "python",
      "pygments_lexer": "ipython3",
      "version": "3.8.3"
    }
  },
  "nbformat": 4,
  "nbformat_minor": 5
}